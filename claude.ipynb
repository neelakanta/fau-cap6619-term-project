{
 "cells": [
  {
   "cell_type": "code",
   "execution_count": null,
   "id": "5441de6f-b95f-4b59-ae55-7fc1658dd2a1",
   "metadata": {},
   "outputs": [],
   "source": [
    "import anthropic\n",
    "import pandas as pd\n",
    "\n",
    "MODEL = 'claude-3-5-haiku-latest'\n",
    "#MODEL = 'claude-3-5-sonnet-latest'\n",
    "\n",
    "MAX_OUTPUT_TOKENS=100\n",
    "\n",
    "#COLLEGE = 'College of Engineering and Computer Science'\n",
    "#COLLEGE = 'College of Education'\n",
    "COLLEGE = 'College of Science'\n",
    "\n",
    "PROMPT_FILE = 'prompt-short.txt'\n",
    "subject_headings_after_cleanup = \"subject_headings_after_cleanup_without_blanks.csv\""
   ]
  },
  {
   "cell_type": "code",
   "execution_count": null,
   "id": "7c54d573-f488-464b-ae60-b5b00ea24c54",
   "metadata": {},
   "outputs": [],
   "source": [
    "# Read in entire Training Dataset\n",
    "df = pd.read_csv(subject_headings_after_cleanup) \n",
    "print(\"Total Training Dataset Length : \", df.shape)\n",
    "\n",
    "college_df = df[df['College'] == COLLEGE].reset_index(drop=True)\n",
    "print(\"College: [\" + COLLEGE + \"]\" + \" Dataset Length: \", college_df.shape)"
   ]
  },
  {
   "cell_type": "code",
   "execution_count": null,
   "id": "566edf8a-c6af-4872-9d8a-0ee29d3d4adf",
   "metadata": {},
   "outputs": [],
   "source": [
    "# Read in subject headings and append to end of the standard prompt\n",
    "\n",
    "with open(PROMPT_FILE, 'r') as file: \n",
    "    prompt = file.read()\n",
    "\n",
    "college_subject_headings = \"\"\n",
    "for row in college_df['Subject Headings'].unique():\n",
    "    college_subject_headings += row + \"\\n\"\n",
    "\n",
    "prompt += college_subject_headings\n",
    "\n",
    "print(\"Training Prompt Length : \", len(prompt))"
   ]
  },
  {
   "cell_type": "code",
   "execution_count": null,
   "id": "99cdcef0-0b20-4024-9a6f-e133997bc76e",
   "metadata": {},
   "outputs": [],
   "source": [
    "client = anthropic.Anthropic(api_key=\"\",)"
   ]
  },
  {
   "cell_type": "code",
   "execution_count": null,
   "id": "4bf8029b-b510-474e-b9b3-89e6e82849c3",
   "metadata": {},
   "outputs": [],
   "source": [
    "# Trial Run\n",
    "\n",
    "ind = 14\n",
    "title = college_df['Title'][ind]\n",
    "abstract = college_df['Abstract'][ind]\n",
    "subject_heading = college_df['Subject Headings'][ind]\n",
    "\n",
    "query = prompt + \"\\n Please Find the subject headings for this example: \\n\" + title + \"\\n\" +  abstract\n",
    "message = client.messages.create(model=MODEL, max_tokens=MAX_OUTPUT_TOKENS, messages=[{\"role\": \"user\", \"content\": query}])\n",
    "\n",
    "predicted_headings = message.content[0].text.lower()\n",
    "print(\"Title    : \", title)\n",
    "print(\"Predicted: \", predicted_headings.split('\\n'))\n",
    "print(\"Actual   : \", subject_heading)\n",
    "print(\"Raw Results : \", message)\n",
    "print(\"Heading Found: \", predicted_headings.find(subject_heading) != -1)"
   ]
  },
  {
   "cell_type": "code",
   "execution_count": null,
   "id": "7f527ab2-c13b-4640-8566-323818bae08a",
   "metadata": {},
   "outputs": [],
   "source": [
    "# Run for all data\n",
    "TOTAL_RUNS=100\n",
    "count = 0\n",
    "foundHeading = 0\n",
    "for index, row in college_df.iterrows():\n",
    "    count = count + 1\n",
    "    if count > TOTAL_RUNS:\n",
    "        break\n",
    "    title = row['Title']\n",
    "    abstract = row['Abstract']\n",
    "    subject_heading = row['Subject Headings']\n",
    "    query = prompt + \"\\n Please Find the subject headings for this example: \\n\" + title + \"\\n\" +  abstract\n",
    "    message = client.messages.create(\n",
    "        model=MODEL,\n",
    "        max_tokens=MAX_OUTPUT_TOKENS,\n",
    "        messages=[{\"role\": \"user\", \"content\": query}]\n",
    "    )\n",
    "    predicted_headings = message.content[0].text.lower()\n",
    "    predicted_headings_list = predicted_headings.split('\\n')\n",
    "    if (predicted_headings.find(subject_heading) != -1):\n",
    "            foundHeading = foundHeading + 1\n",
    "    print(row[\"Title\"], row[\"Subject Headings\"], predicted_headings_list)\n",
    "    #print(count, foundHeading)\n",
    "    #print (\"% Found Rate = \", round((foundHeading * 100)/count), 2)\n",
    "    print(\"------- Count:  %d Found: %d  Percent Found: %0.2f (%s) (%s)\" % (count, foundHeading, foundHeading * 100/count, MODEL, COLLEGE))"
   ]
  }
 ],
 "metadata": {
  "kernelspec": {
   "display_name": "Python 3 (ipykernel)",
   "language": "python",
   "name": "python3"
  },
  "language_info": {
   "codemirror_mode": {
    "name": "ipython",
    "version": 3
   },
   "file_extension": ".py",
   "mimetype": "text/x-python",
   "name": "python",
   "nbconvert_exporter": "python",
   "pygments_lexer": "ipython3",
   "version": "3.9.6"
  }
 },
 "nbformat": 4,
 "nbformat_minor": 5
}
