{
 "cells": [
  {
   "cell_type": "code",
   "execution_count": null,
   "id": "5441de6f-b95f-4b59-ae55-7fc1658dd2a1",
   "metadata": {},
   "outputs": [],
   "source": [
    "from openai import OpenAI\n",
    "import pandas as pd\n",
    "\n",
    "APIKEY=''\n",
    "\n",
    "#MODEL = 'gpt-4o'\n",
    "MODEL = 'gpt-4o-mini'\n",
    "MAX_OUTPUT_TOKENS=100\n",
    "#COLLEGE = 'College of Engineering and Computer Science'\n",
    "#COLLEGE = 'College of Education'\n",
    "COLLEGE = 'College of Science'\n",
    "PROMPT_FILE = 'prompt-short.txt'\n",
    "subject_headings_after_cleanup = \"subject_headings_after_cleanup_without_blanks.csv\""
   ]
  },
  {
   "cell_type": "code",
   "execution_count": null,
   "id": "b468527d-45dd-4c38-b909-0fc018fe94d5",
   "metadata": {},
   "outputs": [],
   "source": [
    "# Read in entire Training Dataset\n",
    "df = pd.read_csv(subject_headings_after_cleanup) \n",
    "print(\"Total Training Dataset Length : \", df.shape)\n",
    "\n",
    "college_df = df[df['College'] == COLLEGE].reset_index(drop=True)\n",
    "print(\"College: [\" + COLLEGE + \"]\" + \" Dataset Length: \", college_df.shape)\n"
   ]
  },
  {
   "cell_type": "code",
   "execution_count": null,
   "id": "4e42aafd-8f6c-4723-bd32-7e00b55678a8",
   "metadata": {},
   "outputs": [],
   "source": [
    "# Initalize connection to LLM\n",
    "client = OpenAI(api_key=APIKEY)"
   ]
  },
  {
   "cell_type": "code",
   "execution_count": null,
   "id": "cb10d6c7-55d6-40ba-b6dd-2373018f3d79",
   "metadata": {},
   "outputs": [],
   "source": [
    "# Read in subject headings and append to end of the standard prompt\n",
    "\n",
    "with open(PROMPT_FILE, 'r') as file: \n",
    "    prompt = file.read()\n",
    "\n",
    "college_subject_headings = \"\"\n",
    "for row in college_df['Subject Headings'].unique():\n",
    "    college_subject_headings += row + \"\\n\"\n",
    "\n",
    "prompt += college_subject_headings\n",
    "\n",
    "print(\"Training Prompt Length : \", len(prompt))"
   ]
  },
  {
   "cell_type": "code",
   "execution_count": null,
   "id": "50b1ab3e-245a-41f8-acac-cce32b9f79bf",
   "metadata": {},
   "outputs": [],
   "source": [
    "# Trial Run\n",
    "\n",
    "ind = 14\n",
    "title = college_df['Title'][ind]\n",
    "abstract = college_df['Abstract'][ind]\n",
    "subject_heading = college_df['Subject Headings'][ind]\n",
    "\n",
    "query = \"Please Find the subject headings for this example: \\n\" + title + \"\\n\" +  abstract\n",
    "\n",
    "message = client.chat.completions.create(model=MODEL,messages=[{\"role\": \"system\", \"content\": prompt}, {\"role\": \"user\", \"content\": query}],temperature=1, max_tokens=50, top_p=1)"
   ]
  },
  {
   "cell_type": "code",
   "execution_count": null,
   "id": "a3d1aee6-4707-4710-a834-9278bd422ea0",
   "metadata": {},
   "outputs": [],
   "source": [
    "predicted_headings = message.choices[0].message.content.lower()\n",
    "print(\"Title    : \", title)\n",
    "print(\"Predicted: \", predicted_headings.split('\\n'))\n",
    "print(\"Actual   : \", subject_heading)\n",
    "print(\"Raw Results : \", message)\n",
    "\n",
    "print(\"Heading Found: \", predicted_headings.find(subject_heading) != -1)"
   ]
  },
  {
   "cell_type": "code",
   "execution_count": null,
   "id": "c6c0b67e-2f54-48ab-87c1-377aa6b5f398",
   "metadata": {
    "scrolled": true
   },
   "outputs": [],
   "source": [
    "### Run for all data\n",
    "#TOTAL_RUNS=10\n",
    "TOTAL_RUNS=len(df.index)\n",
    "count = 0\n",
    "foundHeading = 0\n",
    "for index, row in college_df.iterrows():\n",
    "    count = count + 1\n",
    "    if count > TOTAL_RUNS:\n",
    "        break\n",
    "    title = row['Title']\n",
    "    abstract = row['Abstract']\n",
    "    subject_heading = row['Subject Headings']\n",
    "    query = \"Please Find the subject headings for this example: \\n\" + title + \"\\n\" +  abstract\n",
    "    message = client.chat.completions.create(model=MODEL,messages=[{\"role\": \"system\", \"content\": prompt}, {\"role\": \"user\", \"content\": query}],temperature=1, max_tokens=50, top_p=1)\n",
    "    predicted_headings = message.choices[0].message.content.lower()\n",
    "    predicted_headings_list = predicted_headings.split('\\n')\n",
    "    if (predicted_headings.find(subject_heading) != -1):\n",
    "            foundHeading = foundHeading + 1\n",
    "    print(row[\"Title\"], row[\"Subject Headings\"], predicted_headings_list)\n",
    "    print(\"------- Count:  %d Found: %d  Percent Found: %0.2f (%s) (%s)\" % (count, foundHeading, foundHeading * 100/count, MODEL, COLLEGE))"
   ]
  }
 ],
 "metadata": {
  "kernelspec": {
   "display_name": "Python 3 (ipykernel)",
   "language": "python",
   "name": "python3"
  },
  "language_info": {
   "codemirror_mode": {
    "name": "ipython",
    "version": 3
   },
   "file_extension": ".py",
   "mimetype": "text/x-python",
   "name": "python",
   "nbconvert_exporter": "python",
   "pygments_lexer": "ipython3",
   "version": "3.9.6"
  }
 },
 "nbformat": 4,
 "nbformat_minor": 5
}
